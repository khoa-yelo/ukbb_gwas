{
 "cells": [
  {
   "cell_type": "code",
   "execution_count": 1,
   "id": "d48a58f4-1bd5-4ec6-95f7-577928042b9f",
   "metadata": {
    "tags": []
   },
   "outputs": [],
   "source": [
    "import os\n",
    "from os.path import join\n",
    "import sys\n",
    "import time\n",
    "from tqdm import tqdm\n",
    "import random\n",
    "REPO = join(os.getenv(\"REPO\"), \"ukbb_gwas/bin\")\n",
    "sys.path.insert(0, REPO)\n",
    "\n",
    "import numpy as np\n",
    "import matplotlib.pyplot as plt\n",
    "from mpl_toolkits.mplot3d import Axes3D  # Needed for 3D plotting\n",
    "\n",
    "from scipy.sparse import csr_matrix\n",
    "from sklearn.decomposition import TruncatedSVD\n",
    "from sklearn.feature_selection import VarianceThreshold\n",
    "import umap\n",
    "\n",
    "from dataloader import VariantLoader, EmbeddingLoader, ExomeLoader"
   ]
  },
  {
   "cell_type": "markdown",
   "id": "fd86ff12-b8c1-40d1-8e39-5559d5360b70",
   "metadata": {},
   "source": [
    "### Load EUR and EAS data"
   ]
  },
  {
   "cell_type": "code",
   "execution_count": 2,
   "id": "91115019-d32f-4a69-9dc1-6dc3423254ef",
   "metadata": {
    "tags": []
   },
   "outputs": [],
   "source": [
    "EUR_DATA_DIR = os.getenv(\"PROCESSED_DATA\")\n",
    "EUR_VARIANT_DB = join(EUR_DATA_DIR, \"processed/sqlite/ukbb_sample_indexed.db\")\n",
    "EUR_EMBEDDING_DB = join(EUR_DATA_DIR, \"processed/embeddings/protein_embeddings.h5\")\n",
    "REF_DB = join(EUR_DATA_DIR, \"processed/ref_exome.csv\")"
   ]
  },
  {
   "cell_type": "code",
   "execution_count": 3,
   "id": "79458338-26b4-4640-9b11-abebd2e26faf",
   "metadata": {
    "tags": []
   },
   "outputs": [],
   "source": [
    "EAS_DATA_DIR = os.getenv(\"PROCESSED_DATA_EAS\")\n",
    "EAS_VARIANT_DB = join(EAS_DATA_DIR, \"processed/sqlite/ukbb.db\")\n",
    "EAS_EMBEDDING_DB = join(EAS_DATA_DIR, \"processed/embeddings/protein_embeddings.h5\")"
   ]
  },
  {
   "cell_type": "code",
   "execution_count": 4,
   "id": "70edfda0-9990-4565-a498-36d67c16d84b",
   "metadata": {
    "tags": []
   },
   "outputs": [
    {
     "name": "stderr",
     "output_type": "stream",
     "text": [
      "Loading embeddings: 100%|██████████| 24/24 [01:04<00:00,  2.71s/it]\n",
      "Loading embeddings: 100%|██████████| 24/24 [00:04<00:00,  4.96it/s]\n"
     ]
    }
   ],
   "source": [
    "EurVariantLoader = VariantLoader(EUR_VARIANT_DB)\n",
    "EasVariantLoader = VariantLoader(EAS_VARIANT_DB)\n",
    "\n",
    "EurEmbeddingLoader = EmbeddingLoader(EUR_EMBEDDING_DB, metric = \"mean\")\n",
    "EasEmbeddingLoader = EmbeddingLoader(EAS_EMBEDDING_DB, metric = \"mean\")"
   ]
  },
  {
   "cell_type": "markdown",
   "id": "557ea533-9a1f-4414-bd9b-822db29142d7",
   "metadata": {},
   "source": [
    "### Construct exome matrix for 25 random individuals in each population"
   ]
  },
  {
   "cell_type": "code",
   "execution_count": 5,
   "id": "7cb0188d-c0c7-44ba-bbe0-9ea0e52d7dd2",
   "metadata": {
    "tags": []
   },
   "outputs": [
    {
     "name": "stdout",
     "output_type": "stream",
     "text": [
      "Get Eur matrix\n",
      "matrix 1661211 constructed\n",
      "matrix 2092657 constructed\n",
      "matrix 2101926 constructed\n",
      "matrix 2103593 constructed\n",
      "matrix 2287626 constructed\n",
      "matrix 2550686 constructed\n",
      "matrix 2735408 constructed\n",
      "matrix 2913151 constructed\n",
      "matrix 2933172 constructed\n",
      "matrix 3096252 constructed\n",
      "matrix 4043714 constructed\n",
      "matrix 4086209 constructed\n",
      "matrix 4112242 constructed\n",
      "matrix 4234181 constructed\n",
      "matrix 4235981 constructed\n",
      "matrix 4365042 constructed\n",
      "matrix 4427216 constructed\n",
      "matrix 4468767 constructed\n",
      "matrix 4626727 constructed\n",
      "matrix 5264432 constructed\n",
      "matrix 5429397 constructed\n",
      "matrix 5452935 constructed\n",
      "matrix 5841858 constructed\n",
      "matrix 5919898 constructed\n",
      "matrix 5957733 constructed\n",
      "Get EAS matrix\n",
      "matrix 1002221 constructed\n",
      "matrix 1573335 constructed\n",
      "matrix 1674434 constructed\n",
      "matrix 1695604 constructed\n",
      "matrix 1744120 constructed\n",
      "matrix 2089304 constructed\n",
      "matrix 2276825 constructed\n",
      "matrix 2770833 constructed\n",
      "matrix 2776630 constructed\n",
      "matrix 2780012 constructed\n",
      "matrix 2858351 constructed\n",
      "matrix 2865487 constructed\n",
      "matrix 2897198 constructed\n",
      "matrix 2975695 constructed\n",
      "matrix 3237011 constructed\n",
      "matrix 3454358 constructed\n",
      "matrix 3537986 constructed\n",
      "matrix 3714940 constructed\n",
      "matrix 3991097 constructed\n",
      "matrix 4229015 constructed\n",
      "matrix 4604957 constructed\n",
      "matrix 4691055 constructed\n",
      "matrix 5366404 constructed\n",
      "matrix 5383649 constructed\n",
      "matrix 5456460 constructed\n"
     ]
    }
   ],
   "source": [
    "EurExomeLoader = ExomeLoader(EurVariantLoader, EurEmbeddingLoader, REF_DB)\n",
    "EasExomeLoader = ExomeLoader(EasVariantLoader, EasEmbeddingLoader, REF_DB)\n",
    "\n",
    "all_eur_samples = EurVariantLoader.get_all_samples()\n",
    "all_eas_samples = EasVariantLoader.get_all_samples()\n",
    "\n",
    "random.seed(1809)\n",
    "num_sample = 25\n",
    "print(\"Get Eur matrix\")\n",
    "eur_data = EurExomeLoader.get_sample_matrix(random.sample(all_eur_samples, k=num_sample))\n",
    "print(\"Get EAS matrix\")\n",
    "eas_data = EasExomeLoader.get_sample_matrix(random.sample(all_eas_samples, k=num_sample))"
   ]
  },
  {
   "cell_type": "markdown",
   "id": "7290c163-7dc2-4082-ae04-4d8dae3de417",
   "metadata": {},
   "source": [
    "### Load reference exome matrix"
   ]
  },
  {
   "cell_type": "code",
   "execution_count": 6,
   "id": "bc15a0a1-7328-4ed8-91ff-7ccce17e291c",
   "metadata": {
    "tags": []
   },
   "outputs": [],
   "source": [
    "ref_data = EurExomeLoader.get_ref_embeddings()"
   ]
  },
  {
   "cell_type": "markdown",
   "id": "c05f5830-1aba-4ea7-86b7-3f33abd1dc6c",
   "metadata": {},
   "source": [
    "### Convert exome matrix to exome matrix diff with reference"
   ]
  },
  {
   "cell_type": "code",
   "execution_count": 7,
   "id": "1286212d-d6d7-43b9-9f32-f593bffc6bd9",
   "metadata": {
    "tags": []
   },
   "outputs": [],
   "source": [
    "eur_diff_data = {}\n",
    "eas_diff_data = {}\n",
    "\n",
    "for sample, data in eur_data.items():\n",
    "    eur_diff_data[sample] = data - ref_data\n",
    "for sample, data in eas_data.items():\n",
    "    eas_diff_data[sample] = data - ref_data"
   ]
  },
  {
   "cell_type": "markdown",
   "id": "75ca9ff5-1c6e-456b-b8c0-07770f7aa26a",
   "metadata": {},
   "source": [
    "### Flatten matrix and combine for dimension reduction"
   ]
  },
  {
   "cell_type": "code",
   "execution_count": 9,
   "id": "7e0c18d6-dc41-449d-b68b-874cc571cce8",
   "metadata": {
    "tags": []
   },
   "outputs": [],
   "source": [
    "all_samples = list(eur_diff_data.keys()) + list(eas_diff_data.keys())\n",
    "all_diff_vectors = [eur_diff_data[sample].flatten() for sample in eur_diff_data] + \\\n",
    "                    [eas_diff_data[sample].flatten() for sample in eas_diff_data]\n",
    "X = np.stack(all_diff_vectors)  # shape: (n_samples, flattened_features)"
   ]
  },
  {
   "cell_type": "markdown",
   "id": "c20ca980-8773-4435-ab07-df1a5fd748f6",
   "metadata": {},
   "source": [
    "### Keep high variance dimension only to reduce number of dimension"
   ]
  },
  {
   "cell_type": "code",
   "execution_count": 10,
   "id": "408c017a-d274-4c36-b9ee-6be7ad20b456",
   "metadata": {
    "tags": []
   },
   "outputs": [],
   "source": [
    "selector = VarianceThreshold(threshold=0.01)\n",
    "X_filtered = selector.fit_transform(X)"
   ]
  },
  {
   "cell_type": "markdown",
   "id": "62366d21-d8ec-4e7f-b03b-4e7db596b6c1",
   "metadata": {},
   "source": [
    "### Perform Dimension Reduction and UMAP for visualization"
   ]
  },
  {
   "cell_type": "code",
   "execution_count": 11,
   "id": "726bc56a-315f-46fd-9a32-6c1474268dff",
   "metadata": {
    "tags": []
   },
   "outputs": [
    {
     "name": "stdout",
     "output_type": "stream",
     "text": [
      "SVD\n",
      "UMAP\n"
     ]
    },
    {
     "name": "stderr",
     "output_type": "stream",
     "text": [
      "/blue/sai.zhang/khoang99.stanford/.conda/envs/bioLM/lib/python3.10/site-packages/sklearn/utils/deprecation.py:151: FutureWarning: 'force_all_finite' was renamed to 'ensure_all_finite' in 1.6 and will be removed in 1.8.\n",
      "  warnings.warn(\n",
      "/blue/sai.zhang/khoang99.stanford/.conda/envs/bioLM/lib/python3.10/site-packages/umap/umap_.py:1952: UserWarning: n_jobs value 1 overridden to 1 by setting random_state. Use no seed for parallelism.\n",
      "  warn(\n"
     ]
    },
    {
     "name": "stdout",
     "output_type": "stream",
     "text": [
      "label\n"
     ]
    }
   ],
   "source": [
    "print(\"SVD\")\n",
    "svd = TruncatedSVD(n_components=100, n_iter=7, random_state=42)\n",
    "X_reduced = svd.fit_transform(X_filtered)\n",
    "\n",
    "print(\"UMAP\")\n",
    "reducer = umap.UMAP(random_state=42)\n",
    "X_umap = reducer.fit_transform(X_reduced)\n",
    "\n",
    "print(\"label\")\n",
    "labels = [\"EUR\"] * len(eur_diff_data) + [\"EAS\"] * len(eas_diff_data)"
   ]
  },
  {
   "cell_type": "code",
   "execution_count": 16,
   "id": "3371226f-1a72-4f79-8974-4483d41421fa",
   "metadata": {
    "tags": []
   },
   "outputs": [
    {
     "data": {
      "image/png": "[encoded data removed]",
      "text/plain": [
       "<Figure size 800x600 with 1 Axes>"
      ]
     },
     "metadata": {},
     "output_type": "display_data"
    }
   ],
   "source": [
    "plt.figure(figsize=(8, 6))\n",
    "for label in [\"EUR\", \"EAS\"]:\n",
    "    idx = [i for i, l in enumerate(labels) if l == label]\n",
    "    plt.scatter(X_umap[idx, 0], X_umap[idx, 1], label=label, alpha=0.7)\n",
    "plt.legend(loc = \"lower right\")\n",
    "plt.title(\"EUR vs EAS exome\")\n",
    "plt.xlabel(\"UMAP-1\")\n",
    "plt.ylabel(\"UMAP-2\")\n",
    "plt.tight_layout()\n",
    "plt.show()\n"
   ]
  }
 ],
 "metadata": {
  "kernelspec": {
   "display_name": "bioLM",
   "language": "python",
   "name": "biolm"
  },
  "language_info": {
   "codemirror_mode": {
    "name": "ipython",
    "version": 3
   },
   "file_extension": ".py",
   "mimetype": "text/x-python",
   "name": "python",
   "nbconvert_exporter": "python",
   "pygments_lexer": "ipython3",
   "version": "3.10.16"
  }
 },
 "nbformat": 4,
 "nbformat_minor": 5
}
